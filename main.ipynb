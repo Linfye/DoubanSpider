{
 "cells": [
  {
   "cell_type": "code",
   "execution_count": null,
   "metadata": {},
   "outputs": [],
   "source": [
    "import requests\n",
    "from lxml import etree\n",
    "import random\n",
    "import time\n",
    "\n",
    "user = ''\n",
    "\n",
    "headers = {\n",
    "    'User-Agent': 'Mozilla/5.0 (Windows NT 10.0; Win64; x64) AppleWebKit/537.36 (KHTML, like Gecko) Chrome/118.0.0.0 Safari/537.36',\n",
    "    'Cookie': ''\n",
    "}\n",
    "\n",
    "movie_list = []\n",
    "start = \"0\"\n",
    "url1 = 'https://movie.douban.com/people/{}/collect?start={}&sort=time&rating=all&filter=all&mode=list'.format(user, start)\n",
    "url2 = 'https://book.douban.com/people/{}/collect?sort=time&start={}&filter=all&mode=list'.format(user, start)\n",
    "page_text = requests.get(url=url1, headers=headers).text\n",
    "tree = etree.HTML(page_text)\n",
    "movie_list_e = tree.xpath('/html/body/div[3]/div[1]/div[2]/div[1]/ul/li')\n",
    "movie_list.append(movie_list_e)\n",
    "\n",
    "while movie_list_e != []:\n",
    "    start = str(int(start)+30)\n",
    "    url1 = 'https://movie.douban.com/people/{}/collect?start={}&sort=time&rating=all&filter=all&mode=list'.format(user, start)\n",
    "    url2 = 'https://book.douban.com/people/{}/collect?sort=time&start={}&filter=all&mode=list'.format(user, start)\n",
    "    page_text = requests.get(url=url1, headers=headers).text\n",
    "    tree = etree.HTML(page_text)\n",
    "    movie_list_e = tree.xpath('/html/body/div[3]/div[1]/div[2]/div[1]/ul/li')\n",
    "    movie_list.append(movie_list_e)\n",
    "movie_list.pop()"
   ]
  },
  {
   "cell_type": "code",
   "execution_count": null,
   "metadata": {},
   "outputs": [],
   "source": [
    "movie_url_list = []\n",
    "movie_name_list = []\n",
    "movie_star_list = []\n",
    "\n",
    "for movie_list_e in movie_list:\n",
    "    for movie in movie_list_e:\n",
    "        movie_url = movie.xpath('./div[1]/div[1]/a/@href')[0]\n",
    "        movie_url_list.append(movie_url)\n",
    "\n",
    "        movie_name = movie.xpath('./div[1]/div[1]/a/text()')[0].strip()\n",
    "        movie_name_list.append(movie_name)\n",
    "\n",
    "        if movie.xpath('./div[1]/div[2]/span/@class') != []:\n",
    "            movie_star = movie.xpath('./div[1]/div[2]/span/@class')[0]\n",
    "            movie_star_list.append(movie_star)\n",
    "\n",
    "    \"\"\" print(movie_url_list)\n",
    "    print(movie_name_list)\n",
    "    print(movie_star_list) \"\"\"\n",
    "\n",
    "    user_socre_list = []\n",
    "    for i in movie_star_list:\n",
    "        user_score = int(i[6]) * 2\n",
    "        user_socre_list.append(user_score)\n",
    "\n",
    "print(\"用户平均打分为：\\n\", sum(user_socre_list)/len(user_socre_list))"
   ]
  },
  {
   "cell_type": "code",
   "execution_count": null,
   "metadata": {},
   "outputs": [],
   "source": [
    "import matplotlib.pyplot as plt\n",
    "import numpy as np\n",
    "\n",
    "data = user_socre_list\n",
    "x = range(1, len(user_socre_list)+1)\n",
    "\n",
    "plt.plot(x, data, label='折线图')\n",
    "plt.show()\n",
    "degree = 10\n",
    "coefficients = np.polyfit(x, data, degree)\n",
    "polynomial = np.poly1d(coefficients)\n",
    "y_fit = polynomial(x)\n",
    "plt.plot(x, data, 'o', label='原始数据')\n",
    "plt.plot(x, y_fit, label='拟合曲线')\n",
    "plt.show()"
   ]
  },
  {
   "cell_type": "code",
   "execution_count": null,
   "metadata": {},
   "outputs": [],
   "source": [
    "douban_rating_list = []\n",
    "for douban_url in movie_url_list:\n",
    "    # time.sleep(random.randint(1, 4))\n",
    "    url2 = douban_url\n",
    "    page_text = requests.get(url=url2, headers=headers).text\n",
    "    tree2 = etree.HTML(page_text)\n",
    "    douban_rating = tree2.xpath('/html/body/div[3]/div[1]/div/div[1]/div[1]/div[1]/div[2]/div[1]/div[2]/strong/text()')\n",
    "    if douban_rating != [] and douban_rating != ['  ']:\n",
    "        douban_rating_list.append(eval(douban_rating[0]))\n",
    "\n",
    "print(\"电影豆瓣平均分为：\\n\",sum(douban_rating_list)/len(douban_rating_list), end='')"
   ]
  }
 ],
 "metadata": {
  "kernelspec": {
   "display_name": "Python 3",
   "language": "python",
   "name": "python3"
  },
  "language_info": {
   "codemirror_mode": {
    "name": "ipython",
    "version": 3
   },
   "file_extension": ".py",
   "mimetype": "text/x-python",
   "name": "python",
   "nbconvert_exporter": "python",
   "pygments_lexer": "ipython3",
   "version": "3.11.4"
  }
 },
 "nbformat": 4,
 "nbformat_minor": 2
}
